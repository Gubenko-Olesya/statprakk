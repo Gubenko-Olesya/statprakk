{
 "cells": [
  {
   "cell_type": "markdown",
   "metadata": {
    "id": "P4VutWfefUbE"
   },
   "source": [
    "## Problem 1"
   ]
  },
  {
   "cell_type": "markdown",
   "metadata": {
    "id": "NiX8ePp0oBGk"
   },
   "source": [
    "Make a tuple containing natural numbers, the square of which is a multiple of 3, 4, but not a multiple of 8 and not exceeding 12345."
   ]
  },
  {
   "cell_type": "code",
   "execution_count": null,
   "metadata": {
    "colab": {
     "base_uri": "https://localhost:8080/"
    },
    "id": "XmPHEnS9oBGk",
    "outputId": "7c793c3e-214d-455a-d994-aedcca63e875"
   },
   "outputs": [
    {
     "name": "stdout",
     "output_type": "stream",
     "text": [
      "(6, 18, 30, 42, 54, 66, 78, 90, 102)\n"
     ]
    }
   ],
   "source": [
    "res = tuple(n for n in range(1, 12345) if n**2 % 3 == 0 and n**2 % 4 == 0 and n**2 % 8 != 0 and n**2 <= 12345)\n",
    "\n",
    "print(res)"
   ]
  },
  {
   "cell_type": "markdown",
   "metadata": {
    "id": "OZBeUyxcoBGk"
   },
   "source": [
    "## Problem 2"
   ]
  },
  {
   "cell_type": "markdown",
   "metadata": {
    "id": "zIfvg22noBGk"
   },
   "source": [
    "\n",
    "Write a function that takes a two-dimensional array and a string as input and returns an array rotated 90 degrees counterclockwise if the string 'left' was passed, and clockwise if the string 'right' was passed.\n",
    "\n",
    "Example for input: $\\begin{bmatrix} 1 & 2 & 3 \\\\ 4 & 5 & 6 \\\\ 7 & 8 & 9 \\end{bmatrix}$.\\\n",
    "If the string 'left' is passed, the function should return $\\begin{bmatrix} 3 & 6 & 9 \\\\ 2 & 5 & 8 \\\\ 1 & 4 & 7 \\end{bmatrix}$, and if the string 'right' is passed, the function should return $\\begin{bmatrix} 7 & 4 & 1 \\\\ 8 & 5 & 2 \\\\ 9 & 6 & 3 \\end{bmatrix}$."
   ]
  },
  {
   "cell_type": "code",
   "execution_count": null,
   "metadata": {
    "colab": {
     "base_uri": "https://localhost:8080/"
    },
    "id": "HNvy_cRjoBGk",
    "outputId": "0afc8c4d-c6f1-4a6c-8060-4d0aa7174f31"
   },
   "outputs": [
    {
     "name": "stdout",
     "output_type": "stream",
     "text": [
      "[[3, 6, 9], [2, 5, 8], [1, 4, 7]]\n",
      "[[7, 4, 1], [8, 5, 2], [9, 6, 3]]\n"
     ]
    }
   ],
   "source": [
    "def rotate(array, string):\n",
    "\n",
    "    if string == 'left':\n",
    "\n",
    "        a = [list(reversed(col)) for col in zip(*array)]\n",
    "        array = [list(reversed(col)) for col in zip(*a)]\n",
    "\n",
    "    return [list(reversed(col)) for col in zip(*array)]\n",
    "\n",
    "print(rotate([[1, 2, 3], [4, 5, 6], [7, 8, 9]], 'left'))\n",
    "print(rotate([[1, 2, 3], [4, 5, 6], [7, 8, 9]], 'right'))"
   ]
  },
  {
   "cell_type": "markdown",
   "metadata": {
    "id": "_dY-PFlCoBGk"
   },
   "source": [
    "## Problem 3"
   ]
  },
  {
   "cell_type": "markdown",
   "metadata": {
    "id": "3CaIwcm0oBGk"
   },
   "source": [
    "Write a function that takes a string as input and returns a dictionary containing the number of occurrences of each character in the string.\n",
    "\n",
    "Example for the string 'hello, world!': {'h': 1, 'e': 1, 'l': 3, 'o': 2, ',': 1, ' ': 1, 'w': 1, 'r': 1, 'd': 1, '!': 1}."
   ]
  },
  {
   "cell_type": "code",
   "execution_count": null,
   "metadata": {
    "colab": {
     "base_uri": "https://localhost:8080/"
    },
    "id": "rlSbHusZoBGk",
    "outputId": "1bfe35f9-6ba4-4e30-dc47-96f9897f702b"
   },
   "outputs": [
    {
     "name": "stdout",
     "output_type": "stream",
     "text": [
      "{'l': 3, 'r': 1, 'o': 2, ',': 1, 'h': 1, '!': 1, ' ': 1, 'e': 1, 'w': 1, 'd': 1}\n"
     ]
    }
   ],
   "source": [
    "def count_bukvi(string):\n",
    "    return {char: string.count(char) for char in set(string)}\n",
    "\n",
    "print(count_bukvi(\"hello, world!\"))"
   ]
  },
  {
   "cell_type": "markdown",
   "metadata": {
    "id": "KBGJ7PeboBGk"
   },
   "source": [
    "## Problem 4"
   ]
  },
  {
   "cell_type": "markdown",
   "metadata": {
    "id": "XS4Seqa9oBGk"
   },
   "source": [
    "### Implementing a Library Management System\n",
    "\n",
    "#### Description\n",
    "\n",
    "You are required to design and implement a system for managing books and users in a library. The system should allow for the management of books (adding, deleting, searching by various criteria) and users (registration, deletion, searching), as well as tracking the history of interactions between them (issuing and returning books).\n",
    "\n",
    "#### Tasks\n",
    "\n",
    "1. **`Book` Class**:\n",
    "   - Attributes: title, author, year of publication, ISBN, number of copies.\n",
    "   - Methods: constructor, methods to get information about the book, method to change the number of copies (when issuing and returning books).\n",
    "\n",
    "2. **`User` Class**:\n",
    "   - Attributes: user name, library card number, list of borrowed books.\n",
    "   - Methods: constructor, methods for user registration, methods for adding and removing books from the borrowed list.\n",
    "\n",
    "3. **`Library` Class**:\n",
    "   - Attributes: list of books, list of users, transaction history (who, when, which book was borrowed and returned).\n",
    "   - Methods: constructor, methods for adding and deleting books and users, methods for issuing and returning books, searching for books and users by various criteria, method to display the transaction history.\n",
    "\n",
    "#### Assignment\n",
    "\n",
    "1. Implement the `Book`, `User`, and `Library` classes with the specified attributes and methods.\n",
    "2. Create several books and users, and add them to the library system.\n",
    "3. Implement scenarios for issuing books to users and their return.\n",
    "4. Display the transaction history to show how books were issued and returned.\n"
   ]
  },
  {
   "cell_type": "code",
   "execution_count": 37,
   "metadata": {
    "colab": {
     "base_uri": "https://localhost:8080/"
    },
    "id": "IbqwtWWsoBGl",
    "outputId": "860adc93-4338-41bc-8955-0499ec6cae36"
   },
   "outputs": [
    {
     "name": "stdout",
     "output_type": "stream",
     "text": [
      "Atlas Shrugged was taken by Eva.\n",
      "The Bell Jar was taken by Eva.\n",
      "Atlas Shrugged was taken by Sara.\n",
      "The Bell Jar was returned by Eva.\n",
      "Atlas Shrugged was returned by Sara.\n",
      "Invisible Women: Exposing Data Bias in a World Designed for Men was taken by Eva.\n",
      "Invisible Women: Exposing Data Bias in a World Designed for Men is not available.\n",
      "Invisible Women: Exposing Data Bias in a World Designed for Men was returned by Eva.\n",
      "Invisible Women: Exposing Data Bias in a World Designed for Men was taken by Liza.\n",
      "\n",
      "History:\n",
      "Eva borrowed \"Atlas Shrugged\"\n",
      "Eva borrowed \"The Bell Jar\"\n",
      "Sara borrowed \"Atlas Shrugged\"\n",
      "Eva returned \"The Bell Jar\"\n",
      "Sara returned \"Atlas Shrugged\"\n",
      "Eva borrowed \"Invisible Women: Exposing Data Bias in a World Designed for Men\"\n",
      "Eva returned \"Invisible Women: Exposing Data Bias in a World Designed for Men\"\n",
      "Liza borrowed \"Invisible Women: Exposing Data Bias in a World Designed for Men\"\n",
      "\n",
      "Searched Books by Title:\n",
      "['Title: Atlas Shrugged, author: Ayn Rand, year of publication: 1957, ISBN: 0001, numbers of copies: 9']\n",
      "\n",
      "Searched Users by Name:\n",
      "{'Eva': 1}\n"
     ]
    }
   ],
   "source": [
    "class Book:\n",
    "    def __init__(self, title, author, year, isbn, copies):\n",
    "        self.title = title\n",
    "        self.author = author\n",
    "        self.year = year\n",
    "        self.isbn = isbn\n",
    "        self.copies = copies\n",
    "\n",
    "    def get_info(self):\n",
    "        return f\"Title: {self.title}, author: {self.author}, year of publication: {self.year}, ISBN: {self.isbn}, numbers of copies: {self.copies}\"\n",
    "\n",
    "    def change_copies(self, num):\n",
    "        self.copies += num\n",
    "\n",
    "\n",
    "class User:\n",
    "    def __init__(self, user_name, card_number):\n",
    "        self.user_name = user_name\n",
    "        self.card_number = card_number\n",
    "        self.borrowed_books = []\n",
    "\n",
    "    def register(self):\n",
    "        return f'User {self.user_name} registered successfully.'\n",
    "\n",
    "    def add_book(self, book):\n",
    "        self.borrowed_books.append(book)\n",
    "\n",
    "    def remove_book(self, book):\n",
    "        self.borrowed_books.remove(book)\n",
    "\n",
    "class Library:\n",
    "    def __init__(self):\n",
    "        self.books = []\n",
    "        self.users = []\n",
    "        self.history = []\n",
    "\n",
    "    def add_book(self, book):\n",
    "        self.books.append(book)\n",
    "\n",
    "    def delete_book(self, book):\n",
    "        self.books.remove(book)\n",
    "\n",
    "    def add_user(self, user):\n",
    "        self.users.append(user)\n",
    "\n",
    "    def delete_user(self, user):\n",
    "        self.users.remove(user)\n",
    "\n",
    "    def take_a_book(self, user, book):\n",
    "        if book in self.books and book.copies > 0:\n",
    "            book.change_copies(-1)\n",
    "            user.add_book(book)\n",
    "            self.history.append(f'{user.user_name} borrowed \"{book.title}\"')\n",
    "            return f'{book.title} was taken by {user.user_name}.'\n",
    "        else:\n",
    "            return f'{book.title} is not available.'\n",
    "\n",
    "    def return_book(self, user, book):\n",
    "        if book in user.borrowed_books:\n",
    "            book.change_copies(1)\n",
    "            user.remove_book(book)\n",
    "            self.history.append(f'{user.user_name} returned \"{book.title}\"')\n",
    "            return f'{book.title} was returned by {user.user_name}.'\n",
    "\n",
    "    def search_books(self, title=None, author=None):\n",
    "        results = []\n",
    "        for book in self.books:\n",
    "            if title and title.lower() in book.title.lower():\n",
    "                results.append(book.get_info())\n",
    "            elif author and author.lower() in book.author.lower():\n",
    "                results.append(book.get_info())\n",
    "        return results\n",
    "\n",
    "    def search_users(self, user_name=None):\n",
    "        results = {}\n",
    "        for user in self.users:\n",
    "           if user.user_name == user_name:\n",
    "              results[user_name] = len(user.borrowed_books)\n",
    "        return results\n",
    "\n",
    "    def display_history(self):\n",
    "        return '\\n'.join(self.history)\n",
    "\n",
    "library = Library()\n",
    "\n",
    "#zakidivaem knigi and userov\n",
    "book1 = Book(\"Atlas Shrugged\", \"Ayn Rand\", 1957, \"0001\", 10)\n",
    "book2 = Book(\"The Bell Jar\", \"Sylvia Plath\", 1963, \"0002\", 10)\n",
    "book3 = Book(\"Invisible Women: Exposing Data Bias in a World Designed for Men\", \"Caroline Criado Perez\", 2019, \"0003\", 1)\n",
    "library.add_book(book1)\n",
    "library.add_book(book2)\n",
    "library.add_book(book3)\n",
    "\n",
    "user1 = User(\"Eva\", \"0001\")\n",
    "user2 = User(\"Liza\", \"0002\")\n",
    "user3 = User(\"Sara\", \"0003\")\n",
    "library.add_user(user1)\n",
    "library.add_user(user2)\n",
    "library.add_user(user3)\n",
    "\n",
    "#cheta proishodit\n",
    "print(library.take_a_book(user1, book1))\n",
    "print(library.take_a_book(user1, book2))\n",
    "print(library.take_a_book(user3, book1))\n",
    "print(library.return_book(user1, book2))\n",
    "print(library.return_book(user3, book1))\n",
    "print(library.take_a_book(user1, book3))\n",
    "print(library.take_a_book(user2, book3))\n",
    "print(library.return_book(user1, book3))\n",
    "print(library.take_a_book(user2, book3))\n",
    "\n",
    "#smotrim chto proishodilo\n",
    "print(\"\\nHistory:\")\n",
    "print(library.display_history())\n",
    "\n",
    "#a est li u nas knigi? davaite glyanem\n",
    "print(\"\\nSearched Books by Title:\")\n",
    "print(library.search_books(title=\"Atlas Shrugged\"))\n",
    "\n",
    "#Eva brala knigi - how many? nuzhno posmotret\n",
    "print(\"\\nSearched Users by Name:\")\n",
    "print(library.search_users(user_name=\"Eva\"))"
   ]
  },
  {
   "cell_type": "markdown",
   "metadata": {
    "id": "0c8zRbSIoBGl"
   },
   "source": [
    "## Problem 5*"
   ]
  },
  {
   "cell_type": "markdown",
   "metadata": {
    "id": "8ltdzRmOoBGl"
   },
   "source": [
    "Explain why list `b` changes after the execution of the following code:\n",
    "\n",
    "```python\n",
    "a = [1, 2, 3]\n",
    "b = a\n",
    "a[0] = 4\n",
    "print(b)\n",
    "```"
   ]
  },
  {
   "cell_type": "markdown",
   "metadata": {
    "id": "RxgnUfFPoBGl"
   },
   "source": [
    "Kogda mi pishem b = a mi ne sozdaem new list, prosto b stanovitsya ssilkoi na tot je object na kotori ssilayetsya a. Ochevidno, posle vipolneniya a[0] = 4 izmenyaetsya object na kotori ssilautsya a and b, and kogda mi print b to vivoditsya izmenenni list."
   ]
  },
  {
   "cell_type": "markdown",
   "metadata": {
    "id": "TmXLkc_foBGl"
   },
   "source": [
    "## Problem 6*"
   ]
  },
  {
   "cell_type": "markdown",
   "metadata": {
    "id": "Gn0ibiVCoBGl"
   },
   "source": [
    "Let\n",
    "$$A = \\sum_{i=1}^{10000} \\frac{1}{i^2},\\quad B=\\sum_{i=10000}^{1} \\frac{1}{i^2}.$$\n",
    "Calculate the values of $A$ and $B$ and compare them. What do you observe? Explain why this happens. What is the best way to calculate the value of $\\sum\\limits_{i=1}^{10000} \\dfrac{1}{i^2}$?"
   ]
  },
  {
   "cell_type": "code",
   "execution_count": null,
   "metadata": {
    "colab": {
     "base_uri": "https://localhost:8080/"
    },
    "id": "UmKkPf5ojOUU",
    "outputId": "5aeb22f8-5961-4d26-e952-9e3df2b87516"
   },
   "outputs": [
    {
     "name": "stdout",
     "output_type": "stream",
     "text": [
      "1.6448340718480652 1.6448340718480596\n"
     ]
    }
   ],
   "source": [
    "a = [1./(i**2) for i in range (1, 10001)]\n",
    "b = [1./(i**2) for i in range (10000, 0, -1)]\n",
    "\n",
    "print(sum(a), sum(b))"
   ]
  },
  {
   "cell_type": "markdown",
   "metadata": {
    "id": "o-C0vQsiUP9G"
   },
   "source": [
    "Esli skladivat chisla po ubivaniu, to pri pribavlenii malenkih chisel k bolshim budet teriatsya tochnost (v svyazi s tem chto chisla tipa float specificheski okruglyautsya). Thus, nachinat skladivat nado s malenkogo chisla, kak sdelano pri podschete B."
   ]
  }
 ],
 "metadata": {
  "colab": {
   "collapsed_sections": [
    "P4VutWfefUbE",
    "OZBeUyxcoBGk",
    "_dY-PFlCoBGk",
    "KBGJ7PeboBGk",
    "TmXLkc_foBGl"
   ],
   "provenance": []
  },
  "kernelspec": {
   "display_name": "Python 3",
   "language": "python",
   "name": "python3"
  },
  "language_info": {
   "codemirror_mode": {
    "name": "ipython",
    "version": 3
   },
   "file_extension": ".py",
   "mimetype": "text/x-python",
   "name": "python",
   "nbconvert_exporter": "python",
   "pygments_lexer": "ipython3",
   "version": "3.10.6"
  }
 },
 "nbformat": 4,
 "nbformat_minor": 0
}
