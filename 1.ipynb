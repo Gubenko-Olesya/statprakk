{
 "cells": [
  {
   "cell_type": "markdown",
   "metadata": {
    "id": "BPnoMGlR4rUB"
   },
   "source": [
    "<a href=\"https://colab.research.google.com/drive/1Nx_klyuwQfMlq_v3woczmeeI3ZKiSdvY?usp=sharing\" target=\"_parent\"><img src=\"https://colab.research.google.com/assets/colab-badge.svg\" alt=\"Open In Colab\"/></a>"
   ]
  },
  {
   "cell_type": "markdown",
   "metadata": {
    "id": "P4VutWfefUbE"
   },
   "source": [
    "## Problem 1"
   ]
  },
  {
   "cell_type": "markdown",
   "metadata": {
    "id": "NiX8ePp0oBGk"
   },
   "source": [
    "Make a tuple containing natural numbers, the square of which is a multiple of 3, 4, but not a multiple of 8 and not exceeding 12345."
   ]
  },
  {
   "cell_type": "code",
   "execution_count": null,
   "metadata": {
    "colab": {
     "base_uri": "https://localhost:8080/"
    },
    "id": "XmPHEnS9oBGk",
    "outputId": "7c793c3e-214d-455a-d994-aedcca63e875"
   },
   "outputs": [
    {
     "name": "stdout",
     "output_type": "stream",
     "text": [
      "(6, 18, 30, 42, 54, 66, 78, 90, 102)\n"
     ]
    }
   ],
   "source": [
    "res = tuple(n for n in range(1, 12345) if n**2 % 3 == 0 and n**2 % 4 == 0 and n**2 % 8 != 0 and n**2 <= 12345)\n",
    "\n",
    "print(res)"
   ]
  },
  {
   "cell_type": "markdown",
   "metadata": {
    "id": "OZBeUyxcoBGk"
   },
   "source": [
    "## Problem 2"
   ]
  },
  {
   "cell_type": "markdown",
   "metadata": {
    "id": "zIfvg22noBGk"
   },
   "source": [
    "\n",
    "Write a function that takes a two-dimensional array and a string as input and returns an array rotated 90 degrees counterclockwise if the string 'left' was passed, and clockwise if the string 'right' was passed.\n",
    "\n",
    "Example for input: $\\begin{bmatrix} 1 & 2 & 3 \\\\ 4 & 5 & 6 \\\\ 7 & 8 & 9 \\end{bmatrix}$.\\\n",
    "If the string 'left' is passed, the function should return $\\begin{bmatrix} 3 & 6 & 9 \\\\ 2 & 5 & 8 \\\\ 1 & 4 & 7 \\end{bmatrix}$, and if the string 'right' is passed, the function should return $\\begin{bmatrix} 7 & 4 & 1 \\\\ 8 & 5 & 2 \\\\ 9 & 6 & 3 \\end{bmatrix}$."
   ]
  },
  {
   "cell_type": "code",
   "execution_count": null,
   "metadata": {
    "colab": {
     "base_uri": "https://localhost:8080/"
    },
    "id": "HNvy_cRjoBGk",
    "outputId": "0afc8c4d-c6f1-4a6c-8060-4d0aa7174f31"
   },
   "outputs": [
    {
     "name": "stdout",
     "output_type": "stream",
     "text": [
      "[[3, 6, 9], [2, 5, 8], [1, 4, 7]]\n",
      "[[7, 4, 1], [8, 5, 2], [9, 6, 3]]\n"
     ]
    }
   ],
   "source": [
    "def rotate(array, string):\n",
    "\n",
    "    if string == 'left':\n",
    "\n",
    "        a = [list(reversed(col)) for col in zip(*array)]\n",
    "        array = [list(reversed(col)) for col in zip(*a)]\n",
    "\n",
    "    return [list(reversed(col)) for col in zip(*array)]\n",
    "\n",
    "print(rotate([[1, 2, 3], [4, 5, 6], [7, 8, 9]], 'left'))\n",
    "print(rotate([[1, 2, 3], [4, 5, 6], [7, 8, 9]], 'right'))"
   ]
  },
  {
   "cell_type": "markdown",
   "metadata": {
    "id": "_dY-PFlCoBGk"
   },
   "source": [
    "## Problem 3"
   ]
  },
  {
   "cell_type": "markdown",
   "metadata": {
    "id": "3CaIwcm0oBGk"
   },
   "source": [
    "Write a function that takes a string as input and returns a dictionary containing the number of occurrences of each character in the string.\n",
    "\n",
    "Example for the string 'hello, world!': {'h': 1, 'e': 1, 'l': 3, 'o': 2, ',': 1, ' ': 1, 'w': 1, 'r': 1, 'd': 1, '!': 1}."
   ]
  },
  {
   "cell_type": "code",
   "execution_count": null,
   "metadata": {
    "colab": {
     "base_uri": "https://localhost:8080/"
    },
    "id": "rlSbHusZoBGk",
    "outputId": "1bfe35f9-6ba4-4e30-dc47-96f9897f702b"
   },
   "outputs": [
    {
     "name": "stdout",
     "output_type": "stream",
     "text": [
      "{'l': 3, 'r': 1, 'o': 2, ',': 1, 'h': 1, '!': 1, ' ': 1, 'e': 1, 'w': 1, 'd': 1}\n"
     ]
    }
   ],
   "source": [
    "def count_bukvi(string):\n",
    "    return {char: string.count(char) for char in set(string)}\n",
    "\n",
    "print(count_bukvi(\"hello, world!\"))"
   ]
  },
  {
   "cell_type": "markdown",
   "metadata": {
    "id": "0c8zRbSIoBGl"
   },
   "source": [
    "## Problem 5*"
   ]
  },
  {
   "cell_type": "markdown",
   "metadata": {
    "id": "8ltdzRmOoBGl"
   },
   "source": [
    "Explain why list `b` changes after the execution of the following code:\n",
    "\n",
    "```python\n",
    "a = [1, 2, 3]\n",
    "b = a\n",
    "a[0] = 4\n",
    "print(b)\n",
    "```"
   ]
  },
  {
   "cell_type": "markdown",
   "metadata": {
    "id": "RxgnUfFPoBGl"
   },
   "source": [
    "Kogda mi pishem b = a mi ne sozdaem new list, prosto b stanovitsya ssilkoi na tot je object na kotori ssilayetsya a. Ochevidno, posle vipolneniya a[0] = 4 izmenyaetsya object na kotori ssilautsya a and b, and kogda mi print b to vivoditsya izmenenni list."
   ]
  }
 ],
 "metadata": {
  "colab": {
   "collapsed_sections": [
    "P4VutWfefUbE",
    "OZBeUyxcoBGk",
    "_dY-PFlCoBGk",
    "KBGJ7PeboBGk",
    "TmXLkc_foBGl"
   ],
   "provenance": []
  },
  "kernelspec": {
   "display_name": "Python 3",
   "language": "python",
   "name": "python3"
  },
  "language_info": {
   "codemirror_mode": {
    "name": "ipython",
    "version": 3
   },
   "file_extension": ".py",
   "mimetype": "text/x-python",
   "name": "python",
   "nbconvert_exporter": "python",
   "pygments_lexer": "ipython3",
   "version": "3.10.6"
  }
 },
 "nbformat": 4,
 "nbformat_minor": 0
}
